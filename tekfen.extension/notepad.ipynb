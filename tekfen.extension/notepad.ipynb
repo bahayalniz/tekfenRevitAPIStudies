{
 "cells": [
  {
   "attachments": {},
   "cell_type": "markdown",
   "metadata": {},
   "source": [
    "Panel ve buton isimlendirmeler şu şekilde gidiyor:\n",
    "    .tab\n",
    "        .panel\n",
    "            .pushbutton\n",
    "                script.py\n",
    "                icon.png\n",
    "            (diğer tuş tipleri için pyrevit bundle types diye bakılabilir)"
   ]
  },
  {
   "attachments": {},
   "cell_type": "markdown",
   "metadata": {},
   "source": [
    "Fonksiyona dair genel tanımlar şu şekilde yapılır:"
   ]
  },
  {
   "cell_type": "code",
   "execution_count": null,
   "metadata": {},
   "outputs": [],
   "source": [
    "# -*- coding: utf-8 -*-\n",
    "__title__ = \"ID to Mark\"                           # Name of the button displayed in Revit UI\n",
    "__doc__ = \"\"\"Version = 1.0\n",
    "Yazdığınız kodları test etmenizi sağlar\"\"\"              # Button Description shown in Revit UI\n",
    "__author__ = \"Baha YALNIZ\" "
   ]
  },
  {
   "attachments": {},
   "cell_type": "markdown",
   "metadata": {},
   "source": [
    "En genel importlar şu şekilde:"
   ]
  },
  {
   "cell_type": "code",
   "execution_count": null,
   "metadata": {},
   "outputs": [],
   "source": [
    "import os, sys, math, datetime, time                                    # Regular Imports\n",
    "from Autodesk.Revit.DB import * \n",
    "from pyrevit import revit, forms "
   ]
  },
  {
   "attachments": {},
   "cell_type": "markdown",
   "metadata": {},
   "source": [
    "clr import edilerek .NET kütüphaneleri python ile kullanılabilir hale getirilir. Python'daki list biçimi her zaman istenildiği gibi olmayabilir. Bu yüzden .NET kütüphanelerinden özel bir list biçimi import edilir:"
   ]
  },
  {
   "cell_type": "code",
   "execution_count": null,
   "metadata": {},
   "outputs": [],
   "source": [
    "import clr                                  # Common Language Runtime. Makes .NET libraries accessinble\n",
    "clr.AddReference(\"System\")                  # Refference System.dll for import.\n",
    "from System.Collections.Generic import List # List<ElementType>() <- it's special type of list from .NET framework that RevitAPI requires\n",
    "# List_example = List[ElementId]()          # use .Add() instead of append or put python list of ElementIds in parentesis.\n"
   ]
  },
  {
   "attachments": {},
   "cell_type": "markdown",
   "metadata": {},
   "source": [
    "En temel değişkenler şu şekilde: "
   ]
  },
  {
   "cell_type": "code",
   "execution_count": null,
   "metadata": {},
   "outputs": [],
   "source": [
    "doc   = __revit__.ActiveUIDocument.Document   # Document   class from RevitAPI that represents project. Used to Create, Delete, Modify and Query elements from the project.\n",
    "uidoc = __revit__.ActiveUIDocument          # UIDocument class from RevitAPI that represents Revit project opened in the Revit UI.\n",
    "app   = __revit__.Application                 # Represents the Autodesk Revit Application, providing access to documents, options and other application wide data and settings.\n",
    "PATH_SCRIPT = os.path.dirname(__file__)     # Absolute path to the folder where script is placed.\n"
   ]
  },
  {
   "attachments": {},
   "cell_type": "markdown",
   "metadata": {},
   "source": [
    "Fonksiyon bir \"Transaction\" içinde çalıştırılır. Bu yapılmazsa, dosyaya müdahale mümkün olmaz."
   ]
  },
  {
   "cell_type": "code",
   "execution_count": null,
   "metadata": {},
   "outputs": [],
   "source": [
    "if __name__ == '__main__':\n",
    "    \n",
    "    # AVOID  placing Transaction inside of your loops! It will drastically reduce perfomance of your script.\n",
    "    t = Transaction(doc,__title__)  # Transactions are context-like objects that guard any changes made to a Revit model.\n",
    "\n",
    "    # You need to use t.Start() and t.Commit() to make changes to a Project.\n",
    "    t.Start()  # <- Transaction Start\n",
    "\n",
    "    all_floors = FilteredElementCollector(doc).OfCategory(BuiltInCategory.OST_Floors).WhereElementIsNotElementType().ToElements()\n",
    "    \n",
    "    n = 0\n",
    "    for floor in all_floors:\n",
    "        floor_mark = floor.get_Parameter(BuiltInParameter.ALL_MODEL_MARK)\n",
    "        floor_mark.Set(str(floor.Id))\n",
    " \n",
    "    t.Commit()  # <- Transaction End"
   ]
  }
 ],
 "metadata": {
  "language_info": {
   "name": "python"
  },
  "orig_nbformat": 4
 },
 "nbformat": 4,
 "nbformat_minor": 2
}
