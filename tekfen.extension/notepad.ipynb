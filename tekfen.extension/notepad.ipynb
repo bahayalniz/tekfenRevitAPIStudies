{
 "cells": [
  {
   "attachments": {},
   "cell_type": "markdown",
   "metadata": {},
   "source": [
    "Panel ve buton isimlendirmeler şu şekilde gidiyor:\n",
    "        .tab\n",
    "        .panel\n",
    "            .pushbutton\n",
    "                script.py\n",
    "                icon.png    \n",
    "            (diğer tuş tipleri için pyrevit bundle types diye bakılabilir)"
   ]
  },
  {
   "attachments": {},
   "cell_type": "markdown",
   "metadata": {},
   "source": [
    "Fonksiyona dair genel tanımlar şu şekilde yapılır:"
   ]
  },
  {
   "cell_type": "code",
   "execution_count": null,
   "metadata": {},
   "outputs": [],
   "source": [
    "# -*- coding: utf-8 -*-\n",
    "__title__ = \"ID to Mark\"                           # Name of the button displayed in Revit UI\n",
    "__doc__ = \"\"\"Version = 1.0\n",
    "Yazdığınız kodları test etmenizi sağlar\"\"\"              # Button Description shown in Revit UI\n",
    "__author__ = \"Baha YALNIZ\" "
   ]
  },
  {
   "attachments": {},
   "cell_type": "markdown",
   "metadata": {},
   "source": [
    "En genel importlar şu şekilde:"
   ]
  },
  {
   "cell_type": "code",
   "execution_count": null,
   "metadata": {},
   "outputs": [],
   "source": [
    "import os, sys, math, datetime, time                                    # Regular Imports\n",
    "from Autodesk.Revit.DB import * \n",
    "from pyrevit import revit, forms "
   ]
  },
  {
   "attachments": {},
   "cell_type": "markdown",
   "metadata": {},
   "source": [
    "clr import edilerek .NET kütüphaneleri python ile kullanılabilir hale getirilir. Python'daki list biçimi her zaman istenildiği gibi olmayabilir. Bu yüzden .NET kütüphanelerinden özel bir list biçimi import edilir:"
   ]
  },
  {
   "cell_type": "code",
   "execution_count": null,
   "metadata": {},
   "outputs": [],
   "source": [
    "import clr                                  # Common Language Runtime. Makes .NET libraries accessinble\n",
    "clr.AddReference(\"System\")                  # Refference System.dll for import.\n",
    "from System.Collections.Generic import List # List<ElementType>() <- it's special type of list from .NET framework that RevitAPI requires\n",
    "# List_example = List[ElementId]()          # use .Add() instead of append or put python list of ElementIds in parentesis.\n"
   ]
  },
  {
   "attachments": {},
   "cell_type": "markdown",
   "metadata": {},
   "source": [
    "En temel değişkenler şu şekilde: "
   ]
  },
  {
   "cell_type": "code",
   "execution_count": null,
   "metadata": {},
   "outputs": [],
   "source": [
    "doc   = __revit__.ActiveUIDocument.Document   # Document   class from RevitAPI that represents project. Used to Create, Delete, Modify and Query elements from the project.\n",
    "uidoc = __revit__.ActiveUIDocument          # UIDocument class from RevitAPI that represents Revit project opened in the Revit UI.\n",
    "app   = __revit__.Application                 # Represents the Autodesk Revit Application, providing access to documents, options and other application wide data and settings.\n",
    "PATH_SCRIPT = os.path.dirname(__file__)     # Absolute path to the folder where script is placed.\n",
    "\n",
    "active_view  = doc.ActiveView\n",
    "active_level = doc.ActiveView.GenLevel\n"
   ]
  },
  {
   "attachments": {},
   "cell_type": "markdown",
   "metadata": {},
   "source": [
    "Fonksiyon bir \"Transaction\" içinde çalıştırılır. Bu yapılmazsa, dosyaya müdahale mümkün olmaz."
   ]
  },
  {
   "cell_type": "code",
   "execution_count": null,
   "metadata": {},
   "outputs": [],
   "source": [
    "if __name__ == '__main__':\n",
    "    \n",
    "    # AVOID  placing Transaction inside of your loops! It will drastically reduce perfomance of your script.\n",
    "    t = Transaction(doc,__title__)  # Transactions are context-like objects that guard any changes made to a Revit model.\n",
    "\n",
    "    # You need to use t.Start() and t.Commit() to make changes to a Project.\n",
    "    t.Start()  # <- Transaction Start\n",
    "\n",
    "    all_floors = FilteredElementCollector(doc).OfCategory(BuiltInCategory.OST_Floors).WhereElementIsNotElementType().ToElements()\n",
    "    \n",
    "    n = 0\n",
    "    for floor in all_floors:\n",
    "        floor_mark = floor.get_Parameter(BuiltInParameter.ALL_MODEL_MARK)\n",
    "        floor_mark.Set(str(floor.Id))\n",
    " \n",
    "    t.Commit()  # <- Transaction End"
   ]
  },
  {
   "attachments": {},
   "cell_type": "markdown",
   "metadata": {},
   "source": [
    "Yeni bir obje yaratılacağı zaman dökümantasyonda bakılması gereken iki konum var:\n",
    "\n",
    "    1- Oluşturulmak istenen objenin kendi classının içindeki metotlardan \"create\" metodu aranabilir.\n",
    "    2- Create metodu olmayan classlar için \"Document Class\" altındaki metotlardan gerekli create metodu bulunabilir."
   ]
  },
  {
   "cell_type": "code",
   "execution_count": null,
   "metadata": {},
   "outputs": [],
   "source": [
    "from Autodesk.Revit.DB.Structure import StructuralType"
   ]
  },
  {
   "cell_type": "code",
   "execution_count": null,
   "metadata": {},
   "outputs": [],
   "source": [
    "with Transaction(doc,__title__) as t:\n",
    "    t.Start()\n",
    "    #Aşağıdaki kodların hepsi bu aralığa yerleştirilmeli.\n",
    "    t.commit()"
   ]
  },
  {
   "cell_type": "code",
   "execution_count": null,
   "metadata": {},
   "outputs": [],
   "source": [
    "# ╔╦╗╔═╗═╗ ╦╔╦╗\n",
    "#  ║ ║╣ ╔╩╦╝ ║\n",
    "#  ╩ ╚═╝╩ ╚═ ╩ TEXT\n",
    "# ==================================================\n",
    "# # ARGUMENTS\n",
    "text_type_id = FilteredElementCollector(doc).OfClass(TextNoteType).FirstElementId()\n",
    "pt           = XYZ(0,0,0)\n",
    "text         = 'Hello BIM World!'\n",
    "# CREATE TEXT NOTE\n",
    "TextNote.Create(doc, active_view.Id, pt, text, text_type_id)"
   ]
  },
  {
   "cell_type": "code",
   "execution_count": null,
   "metadata": {},
   "outputs": [],
   "source": [
    "# ╦═╗╔═╗╔═╗╔╦╗\n",
    "# ╠╦╝║ ║║ ║║║║\n",
    "# ╩╚═╚═╝╚═╝╩ ╩ ROOM\n",
    "#==================================================\n",
    "# ARGUMENTS\n",
    "pt = UV(10,0)\n",
    "\n",
    "# CREATE ROOM\n",
    "room = doc.Create.NewRoom(active_level, pt)\n",
    "\n",
    "# CREATE ROOM TAG\n",
    "room_link = LinkElementId(room.Id)\n",
    "doc.Create.NewRoomTag(room_link, pt, active_view.Id )"
   ]
  },
  {
   "cell_type": "code",
   "execution_count": null,
   "metadata": {},
   "outputs": [],
   "source": [
    "# ╦  ╦╔╗╔╔═╗╔═╗\n",
    "# ║  ║║║║║╣ ╚═╗\n",
    "# ╩═╝╩╝╚╝╚═╝╚═╝ DETAIL LINES\n",
    "# ==================================================\n",
    "# ARGUMENTS\n",
    "pt_start = XYZ(20,0,0)\n",
    "pt_end   = XYZ(20,5,0)\n",
    "curve    = Line.CreateBound(pt_start, pt_end)\n",
    "\n",
    "#CREATE DETAIL LINE\n",
    "detail_line = doc.Create.NewDetailCurve(active_view, curve)"
   ]
  },
  {
   "cell_type": "code",
   "execution_count": null,
   "metadata": {},
   "outputs": [],
   "source": [
    "# ╦ ╦╔═╗╦  ╦  ╔═╗\n",
    "# ║║║╠═╣║  ║  ╚═╗\n",
    "# ╚╩╝╩ ╩╩═╝╩═╝╚═╝ WALLS\n",
    "#==================================================\n",
    "# ARGUMENTS\n",
    "pt_start = XYZ(30,0,0)\n",
    "pt_end   = XYZ(30,5,0)\n",
    "curve    = Line.CreateBound(pt_start, pt_end)\n",
    "\n",
    "#CREATE A WALL\n",
    "wall = Wall.Create(doc, curve, active_level.Id, False)"
   ]
  },
  {
   "cell_type": "code",
   "execution_count": null,
   "metadata": {},
   "outputs": [],
   "source": [
    "# ╦ ╦╦╔╗╔╔╦╗╔═╗╦ ╦╔═╗\n",
    "# ║║║║║║║ ║║║ ║║║║╚═╗\n",
    "# ╚╩╝╩╝╚╝═╩╝╚═╝╚╩╝╚═╝ WINDOWS\n",
    "#==================================================\n",
    "# ARGUMENTS\n",
    "host_wall = doc.GetElement(ElementId(779500))\n",
    "pt_start = XYZ(30,0,0)\n",
    "pt_end   = XYZ(30,5,0)\n",
    "pt_mid   = (pt_start + pt_end) /2\n",
    "window_type = FilteredElementCollector(doc).OfCategory(BuiltInCategory.OST_Windows)\\\n",
    "                .WhereElementIsElementType().FirstElement()\n",
    "\n",
    "# CREATE A WINDOW\n",
    "window = doc.Create.NewFamilyInstance(pt_mid, window_type, host_wall, StructuralType.NonStructural )"
   ]
  },
  {
   "cell_type": "code",
   "execution_count": null,
   "metadata": {},
   "outputs": [],
   "source": [
    "# ╔═╗╔═╗╔╦╗╦╦ ╦ ╦  ╦╔╗╔╔═╗╔╦╗╔═╗╔╗╔╔═╗╔═╗\n",
    "# ╠╣ ╠═╣║║║║║ ╚╦╝  ║║║║╚═╗ ║ ╠═╣║║║║  ║╣\n",
    "# ╚  ╩ ╩╩ ╩╩╩═╝╩   ╩╝╚╝╚═╝ ╩ ╩ ╩╝╚╝╚═╝╚═╝ FAMILY INSTANCE\n",
    "#==================================================\n",
    "# EXTRA FUNCTION\n",
    "def get_type_by_name(type_name):\n",
    "    \"\"\"Extra Function to get Family Type by name.\"\"\"\n",
    "    # CREATE RULE\n",
    "    param_type = ElementId(BuiltInParameter.ALL_MODEL_TYPE_NAME)\n",
    "    f_param    = ParameterValueProvider(param_type)\n",
    "    evaluator  = FilterStringEquals()\n",
    "    f_rule     = FilterStringRule(f_param, evaluator, type_name, True) # Revit 2023 does not need last argument!\n",
    "\n",
    "    # CREATE FILTER\n",
    "    filter_type_name = ElementParameterFilter(f_rule)\n",
    "\n",
    "    # GET ELEMENTS\n",
    "    return FilteredElementCollector(doc).WherePasses(filter_type_name).WhereElementIsElementType().FirstElement()\n",
    "\n",
    "# ARGUMENTS\n",
    "pt = XYZ(40,5,0)\n",
    "symbol = get_type_by_name('Placeholder - Type B')\n",
    "\n",
    "# CREATE AN ELEMENT\n",
    "element = doc.Create.NewFamilyInstance(pt, symbol, StructuralType.NonStructural)"
   ]
  },
  {
   "cell_type": "code",
   "execution_count": null,
   "metadata": {},
   "outputs": [],
   "source": [
    "    # ╔═╗╦ ╦╔═╗╔═╗╔╦╗╔═╗\n",
    "    # ╚═╗╠═╣║╣ ║╣  ║ ╚═╗\n",
    "    # ╚═╝╩ ╩╚═╝╚═╝ ╩ ╚═╝ SHEETS\n",
    "    #==================================================\n",
    "    # ARGUMENTS\n",
    "    title_block_id = FilteredElementCollector(doc).OfCategory(BuiltInCategory.OST_TitleBlocks)\\\n",
    "                        .WhereElementIsNotElementType().FirstElementId()\n",
    "    \n",
    "    # CREATE SHEET\n",
    "    new_sheet = ViewSheet.Create(doc, title_block_id)\n",
    "    new_sheet.SheetNumber = 'Random Sheet Number' #<- Unique !\n",
    "    new_sheet.Name        = 'Random Name'"
   ]
  },
  {
   "cell_type": "code",
   "execution_count": null,
   "metadata": {},
   "outputs": [],
   "source": [
    "    # ╦  ╦╦╔═╗╦ ╦╔═╗\n",
    "    # ╚╗╔╝║║╣ ║║║╚═╗\n",
    "    #  ╚╝ ╩╚═╝╚╩╝╚═╝ VIEWS\n",
    "    #==================================================\n",
    "    # ARGUMENTS\n",
    "    all_view_types = FilteredElementCollector(doc).OfClass(ViewFamilyType).ToElements()\n",
    "    view_3D_type = [vt for vt in all_view_types if vt.ViewFamily == ViewFamily.ThreeDimensional][0]\n",
    "    \n",
    "    # CREATE 3D VIEW\n",
    "    new_3D = View3D.CreateIsometric(doc, view_3D_type.Id)"
   ]
  },
  {
   "cell_type": "code",
   "execution_count": null,
   "metadata": {},
   "outputs": [],
   "source": [
    "\n",
    "    # ╦═╗╔═╗╔═╗╦╔═╗╔╗╔\n",
    "    # ╠╦╝║╣ ║ ╦║║ ║║║║\n",
    "    # ╩╚═╚═╝╚═╝╩╚═╝╝╚╝ REGION\n",
    "    #==================================================\n",
    "    # ARGUMENTS\n",
    "    region_type_id = doc.GetDefaultElementTypeId(ElementTypeGroup.FilledRegionType)\n",
    "    \n",
    "    # POINTS\n",
    "    pt_0 = XYZ(50, 0, 0)\n",
    "    pt_1 = XYZ(55, 0, 0)\n",
    "    pt_2 = XYZ(55, 5, 0)\n",
    "    pt_3 = XYZ(50, 5, 0)\n",
    "    \n",
    "    # LINES\n",
    "    l_0 = Line.CreateBound(pt_0, pt_1)\n",
    "    l_1 = Line.CreateBound(pt_1, pt_2)\n",
    "    l_2 = Line.CreateBound(pt_2, pt_3)\n",
    "    l_3 = Line.CreateBound(pt_3, pt_0)\n",
    "    \n",
    "    # BOUNDARY\n",
    "    boundary = CurveLoop()\n",
    "    boundary.Append(l_0)\n",
    "    boundary.Append(l_1)\n",
    "    boundary.Append(l_2)\n",
    "    boundary.Append(l_3)\n",
    "    \n",
    "    # LIST OF BOUNDARIES\n",
    "    list_boundaries = List[CurveLoop]()\n",
    "    list_boundaries.Add(boundary)\n",
    "    \n",
    "    # CREATE FILLED REGION\n",
    "    region = FilledRegion.Create(doc, region_type_id, active_view.Id, list_boundaries)"
   ]
  },
  {
   "cell_type": "code",
   "execution_count": null,
   "metadata": {},
   "outputs": [],
   "source": [
    "    # ╔═╗╦  ╔═╗╔═╗╦═╗\n",
    "    # ╠╣ ║  ║ ║║ ║╠╦╝\n",
    "    # ╚  ╩═╝╚═╝╚═╝╩╚═ FLOOR\n",
    "    #==================================================\n",
    "    # ARGUMENTS\n",
    "    floor_type_id = doc.GetDefaultElementTypeId(ElementTypeGroup.FloorType)\n",
    "    floor_type    = doc.GetElement(floor_type_id)\n",
    "    \n",
    "    # POINTS\n",
    "    pt_0 = XYZ(60, 0, 0)\n",
    "    pt_1 = XYZ(65, 0, 0)\n",
    "    pt_2 = XYZ(65, 5, 0)\n",
    "    pt_3 = XYZ(60, 5, 0)\n",
    "    \n",
    "    # LINES\n",
    "    l_0 = Line.CreateBound(pt_0, pt_1)\n",
    "    l_1 = Line.CreateBound(pt_1, pt_2)\n",
    "    l_2 = Line.CreateBound(pt_2, pt_3)\n",
    "    l_3 = Line.CreateBound(pt_3, pt_0)\n",
    "    \n",
    "    # BOUNDARY\n",
    "    boundary = CurveArray()\n",
    "    boundary.Append(l_0)\n",
    "    boundary.Append(l_1)\n",
    "    boundary.Append(l_2)\n",
    "    boundary.Append(l_3)\n",
    "    \n",
    "    # CREATE FLOOR\n",
    "    new_floor = doc.Create.NewFloor(boundary, floor_type, active_level, False)"
   ]
  },
  {
   "cell_type": "code",
   "execution_count": null,
   "metadata": {},
   "outputs": [],
   "source": [
    "    # ╔═╗╔═╗╔═╗╦ ╦  ╔═╗╦  ╔═╗╔╦╗╔═╗╔╗╔╔╦╗╔═╗\n",
    "    # ║  ║ ║╠═╝╚╦╝  ║╣ ║  ║╣ ║║║║╣ ║║║ ║ ╚═╗\n",
    "    # ╚═╝╚═╝╩   ╩   ╚═╝╩═╝╚═╝╩ ╩╚═╝╝╚╝ ╩ ╚═╝ COPY ELEMENTS\n",
    "    # ==================================================\n",
    "    # # GET ELEMENTS TO COPY\n",
    "    all_floors_in_view = FilteredElementCollector(doc, active_view.Id).OfCategory(BuiltInCategory.OST_Floors).WhereElementIsNotElementType().ToElementIds()\n",
    "    elements_to_copy = List[ElementId](all_floors_in_view)\n",
    "    \n",
    "    # COPY ELEMENTS (Multiple Times)\n",
    "    for i in range(1,6):\n",
    "        vector = XYZ(2*i, 10*i, 0)\n",
    "        ElementTransformUtils.CopyElements(doc, elements_to_copy, vector)"
   ]
  },
  {
   "cell_type": "code",
   "execution_count": null,
   "metadata": {},
   "outputs": [],
   "source": [
    "    # ╔╦╗╔═╗╦  ╔═╗╔╦╗╔═╗  ╔═╗╦  ╔═╗╔╦╗╔═╗╔╗╔╔╦╗╔═╗\n",
    "    #  ║║║╣ ║  ║╣  ║ ║╣   ║╣ ║  ║╣ ║║║║╣ ║║║ ║ ╚═╗\n",
    "    # ═╩╝╚═╝╩═╝╚═╝ ╩ ╚═╝  ╚═╝╩═╝╚═╝╩ ╩╚═╝╝╚╝ ╩ ╚═╝ DELETE ELEMENTS\n",
    "    # ==================================================\n",
    "    # # GET ELEMENTS TO COPY\n",
    "    all_floors_in_view = FilteredElementCollector(doc, active_view.Id).OfCategory(BuiltInCategory.OST_Floors).WhereElementIsNotElementType().ToElementIds()\n",
    "    element_to_delete  = List[ElementId](all_floors_in_view)\n",
    "    \n",
    "    # DELETE ELEMENTS\n",
    "    doc.Delete(element_to_delete)"
   ]
  },
  {
   "attachments": {},
   "cell_type": "markdown",
   "metadata": {},
   "source": [
    "-----"
   ]
  }
 ],
 "metadata": {
  "language_info": {
   "name": "python"
  },
  "orig_nbformat": 4
 },
 "nbformat": 4,
 "nbformat_minor": 2
}
